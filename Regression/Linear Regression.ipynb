{
 "cells": [
  {
   "cell_type": "markdown",
   "id": "4f87ad1c-d375-4ffc-b6c4-c85f0a6aadb3",
   "metadata": {},
   "source": [
    "# Imports"
   ]
  },
  {
   "cell_type": "code",
   "execution_count": 2,
   "id": "1502f0c2-d22d-4ef5-88f3-d17f70fe808b",
   "metadata": {},
   "outputs": [],
   "source": [
    "import pandas as pd\n",
    "import numpy as np\n",
    "import seaborn as sns\n",
    "import matplotlib.pyplot as plt\n",
    "from sklearn.datasets import load_iris, load_breast_cancer, load_diabetes\n",
    "from sklearn.linear_model import LinearRegression\n",
    "from sklearn.metrics import accuracy_score, mean_squared_error as mse, mean_absolute_error as mae\n",
    "from collections import Counter\n",
    "from sklearn.preprocessing import StandardScaler"
   ]
  },
  {
   "cell_type": "markdown",
   "id": "eb7c72b1-d29d-410f-9c59-0977c5f8d5e4",
   "metadata": {},
   "source": [
    "# Data"
   ]
  },
  {
   "cell_type": "code",
   "execution_count": 4,
   "id": "adaab743-bf06-4eb2-ba5c-bb4373e2e4d7",
   "metadata": {},
   "outputs": [
    {
     "data": {
      "text/html": [
       "<div>\n",
       "<style scoped>\n",
       "    .dataframe tbody tr th:only-of-type {\n",
       "        vertical-align: middle;\n",
       "    }\n",
       "\n",
       "    .dataframe tbody tr th {\n",
       "        vertical-align: top;\n",
       "    }\n",
       "\n",
       "    .dataframe thead th {\n",
       "        text-align: right;\n",
       "    }\n",
       "</style>\n",
       "<table border=\"1\" class=\"dataframe\">\n",
       "  <thead>\n",
       "    <tr style=\"text-align: right;\">\n",
       "      <th></th>\n",
       "      <th>age</th>\n",
       "      <th>sex</th>\n",
       "      <th>bmi</th>\n",
       "      <th>bp</th>\n",
       "      <th>s1</th>\n",
       "      <th>s2</th>\n",
       "      <th>s3</th>\n",
       "      <th>s4</th>\n",
       "      <th>s5</th>\n",
       "      <th>s6</th>\n",
       "      <th>target</th>\n",
       "    </tr>\n",
       "  </thead>\n",
       "  <tbody>\n",
       "    <tr>\n",
       "      <th>0</th>\n",
       "      <td>0.038076</td>\n",
       "      <td>0.050680</td>\n",
       "      <td>0.061696</td>\n",
       "      <td>0.021872</td>\n",
       "      <td>-0.044223</td>\n",
       "      <td>-0.034821</td>\n",
       "      <td>-0.043401</td>\n",
       "      <td>-0.002592</td>\n",
       "      <td>0.019907</td>\n",
       "      <td>-0.017646</td>\n",
       "      <td>151.0</td>\n",
       "    </tr>\n",
       "    <tr>\n",
       "      <th>1</th>\n",
       "      <td>-0.001882</td>\n",
       "      <td>-0.044642</td>\n",
       "      <td>-0.051474</td>\n",
       "      <td>-0.026328</td>\n",
       "      <td>-0.008449</td>\n",
       "      <td>-0.019163</td>\n",
       "      <td>0.074412</td>\n",
       "      <td>-0.039493</td>\n",
       "      <td>-0.068332</td>\n",
       "      <td>-0.092204</td>\n",
       "      <td>75.0</td>\n",
       "    </tr>\n",
       "    <tr>\n",
       "      <th>2</th>\n",
       "      <td>0.085299</td>\n",
       "      <td>0.050680</td>\n",
       "      <td>0.044451</td>\n",
       "      <td>-0.005670</td>\n",
       "      <td>-0.045599</td>\n",
       "      <td>-0.034194</td>\n",
       "      <td>-0.032356</td>\n",
       "      <td>-0.002592</td>\n",
       "      <td>0.002861</td>\n",
       "      <td>-0.025930</td>\n",
       "      <td>141.0</td>\n",
       "    </tr>\n",
       "    <tr>\n",
       "      <th>3</th>\n",
       "      <td>-0.089063</td>\n",
       "      <td>-0.044642</td>\n",
       "      <td>-0.011595</td>\n",
       "      <td>-0.036656</td>\n",
       "      <td>0.012191</td>\n",
       "      <td>0.024991</td>\n",
       "      <td>-0.036038</td>\n",
       "      <td>0.034309</td>\n",
       "      <td>0.022688</td>\n",
       "      <td>-0.009362</td>\n",
       "      <td>206.0</td>\n",
       "    </tr>\n",
       "    <tr>\n",
       "      <th>4</th>\n",
       "      <td>0.005383</td>\n",
       "      <td>-0.044642</td>\n",
       "      <td>-0.036385</td>\n",
       "      <td>0.021872</td>\n",
       "      <td>0.003935</td>\n",
       "      <td>0.015596</td>\n",
       "      <td>0.008142</td>\n",
       "      <td>-0.002592</td>\n",
       "      <td>-0.031988</td>\n",
       "      <td>-0.046641</td>\n",
       "      <td>135.0</td>\n",
       "    </tr>\n",
       "  </tbody>\n",
       "</table>\n",
       "</div>"
      ],
      "text/plain": [
       "        age       sex       bmi        bp        s1        s2        s3  \\\n",
       "0  0.038076  0.050680  0.061696  0.021872 -0.044223 -0.034821 -0.043401   \n",
       "1 -0.001882 -0.044642 -0.051474 -0.026328 -0.008449 -0.019163  0.074412   \n",
       "2  0.085299  0.050680  0.044451 -0.005670 -0.045599 -0.034194 -0.032356   \n",
       "3 -0.089063 -0.044642 -0.011595 -0.036656  0.012191  0.024991 -0.036038   \n",
       "4  0.005383 -0.044642 -0.036385  0.021872  0.003935  0.015596  0.008142   \n",
       "\n",
       "         s4        s5        s6  target  \n",
       "0 -0.002592  0.019907 -0.017646   151.0  \n",
       "1 -0.039493 -0.068332 -0.092204    75.0  \n",
       "2 -0.002592  0.002861 -0.025930   141.0  \n",
       "3  0.034309  0.022688 -0.009362   206.0  \n",
       "4 -0.002592 -0.031988 -0.046641   135.0  "
      ]
     },
     "execution_count": 4,
     "metadata": {},
     "output_type": "execute_result"
    }
   ],
   "source": [
    "data = load_diabetes()\n",
    "df = pd.DataFrame(data.data, columns=data.feature_names)\n",
    "df['target'] = data.target\n",
    "df.head()"
   ]
  },
  {
   "cell_type": "code",
   "execution_count": 5,
   "id": "6d0376c4-2742-4165-9005-6b8df43ec9d3",
   "metadata": {},
   "outputs": [
    {
     "name": "stdout",
     "output_type": "stream",
     "text": [
      "<class 'pandas.core.frame.DataFrame'>\n",
      "RangeIndex: 442 entries, 0 to 441\n",
      "Data columns (total 11 columns):\n",
      " #   Column  Non-Null Count  Dtype  \n",
      "---  ------  --------------  -----  \n",
      " 0   age     442 non-null    float64\n",
      " 1   sex     442 non-null    float64\n",
      " 2   bmi     442 non-null    float64\n",
      " 3   bp      442 non-null    float64\n",
      " 4   s1      442 non-null    float64\n",
      " 5   s2      442 non-null    float64\n",
      " 6   s3      442 non-null    float64\n",
      " 7   s4      442 non-null    float64\n",
      " 8   s5      442 non-null    float64\n",
      " 9   s6      442 non-null    float64\n",
      " 10  target  442 non-null    float64\n",
      "dtypes: float64(11)\n",
      "memory usage: 38.1 KB\n"
     ]
    }
   ],
   "source": [
    "df.info()"
   ]
  },
  {
   "cell_type": "code",
   "execution_count": 6,
   "id": "b5678703-2094-47d3-bc9c-c4970de54645",
   "metadata": {},
   "outputs": [],
   "source": [
    "X, y = df.drop(columns = 'target'), np.array(df['target']).reshape(-1,1)"
   ]
  },
  {
   "cell_type": "markdown",
   "id": "894a3e97-5dfb-4ac6-a885-29a5eb91eee3",
   "metadata": {},
   "source": [
    "# Linear Regression (Closed Form) "
   ]
  },
  {
   "cell_type": "code",
   "execution_count": 8,
   "id": "5f0f5663-4de0-4afb-9f29-d86e46ca5c2b",
   "metadata": {},
   "outputs": [],
   "source": [
    "W = np.array(np.linalg.inv(X.T @ X) @ X.T @ y).reshape(-1,1)"
   ]
  },
  {
   "cell_type": "code",
   "execution_count": 9,
   "id": "03f30bf3-a7ec-43bd-b14f-71513f801ce3",
   "metadata": {},
   "outputs": [
    {
     "name": "stdout",
     "output_type": "stream",
     "text": [
      "(10, 1) (442, 10)\n"
     ]
    }
   ],
   "source": [
    "print(W.shape, X.shape)"
   ]
  },
  {
   "cell_type": "code",
   "execution_count": 10,
   "id": "b0f4dca8-f6c7-48bb-aafc-97a91ef62a49",
   "metadata": {},
   "outputs": [],
   "source": [
    "# Predicting\n",
    "y_pred = X@W\n",
    "df['pred'] = y_pred"
   ]
  },
  {
   "cell_type": "code",
   "execution_count": 11,
   "id": "250fa4c1-76dd-4a13-a78b-30126b6b2956",
   "metadata": {},
   "outputs": [
    {
     "name": "stdout",
     "output_type": "stream",
     "text": [
      "MSE 26004.293351128865\n",
      "MAE 152.1501958459668\n"
     ]
    }
   ],
   "source": [
    "print(\"MSE\",mse(y,y_pred))\n",
    "print(\"MAE\",mae(y,y_pred))"
   ]
  },
  {
   "cell_type": "code",
   "execution_count": 12,
   "id": "16abd911-9e15-4ab3-bbb4-99555c47f212",
   "metadata": {},
   "outputs": [
    {
     "data": {
      "text/html": [
       "<div>\n",
       "<style scoped>\n",
       "    .dataframe tbody tr th:only-of-type {\n",
       "        vertical-align: middle;\n",
       "    }\n",
       "\n",
       "    .dataframe tbody tr th {\n",
       "        vertical-align: top;\n",
       "    }\n",
       "\n",
       "    .dataframe thead th {\n",
       "        text-align: right;\n",
       "    }\n",
       "</style>\n",
       "<table border=\"1\" class=\"dataframe\">\n",
       "  <thead>\n",
       "    <tr style=\"text-align: right;\">\n",
       "      <th></th>\n",
       "      <th>pred</th>\n",
       "      <th>target</th>\n",
       "      <th>pred_with_bias</th>\n",
       "    </tr>\n",
       "  </thead>\n",
       "  <tbody>\n",
       "    <tr>\n",
       "      <th>0</th>\n",
       "      <td>53.983193</td>\n",
       "      <td>151.0</td>\n",
       "      <td>206.116677</td>\n",
       "    </tr>\n",
       "    <tr>\n",
       "      <th>1</th>\n",
       "      <td>-84.062451</td>\n",
       "      <td>75.0</td>\n",
       "      <td>68.071033</td>\n",
       "    </tr>\n",
       "    <tr>\n",
       "      <th>2</th>\n",
       "      <td>24.749306</td>\n",
       "      <td>141.0</td>\n",
       "      <td>176.882790</td>\n",
       "    </tr>\n",
       "    <tr>\n",
       "      <th>3</th>\n",
       "      <td>14.780974</td>\n",
       "      <td>206.0</td>\n",
       "      <td>166.914458</td>\n",
       "    </tr>\n",
       "    <tr>\n",
       "      <th>4</th>\n",
       "      <td>-23.671226</td>\n",
       "      <td>135.0</td>\n",
       "      <td>128.462258</td>\n",
       "    </tr>\n",
       "  </tbody>\n",
       "</table>\n",
       "</div>"
      ],
      "text/plain": [
       "        pred  target  pred_with_bias\n",
       "0  53.983193   151.0      206.116677\n",
       "1 -84.062451    75.0       68.071033\n",
       "2  24.749306   141.0      176.882790\n",
       "3  14.780974   206.0      166.914458\n",
       "4 -23.671226   135.0      128.462258"
      ]
     },
     "execution_count": 12,
     "metadata": {},
     "output_type": "execute_result"
    }
   ],
   "source": [
    "# Adding bias vector\n",
    "X_aug = np.hstack([np.ones((X.shape[0], 1)), X])\n",
    "W = np.array(np.linalg.inv(X_aug.T @ X_aug) @ X_aug.T @ y).reshape(-1,1)\n",
    "y_pred = X_aug@W\n",
    "df['pred_with_bias'] = y_pred\n",
    "df[['pred','target','pred_with_bias']].head()"
   ]
  },
  {
   "cell_type": "code",
   "execution_count": 13,
   "id": "f5385878-e548-4c14-b639-c7f5aaf5d70b",
   "metadata": {},
   "outputs": [
    {
     "name": "stdout",
     "output_type": "stream",
     "text": [
      "MSE 2859.69634758675\n",
      "MAE 43.27745202531507\n"
     ]
    }
   ],
   "source": [
    "print(\"MSE\",mse(y,y_pred))\n",
    "print(\"MAE\",mae(y,y_pred))"
   ]
  },
  {
   "cell_type": "markdown",
   "id": "87c5ee19-7361-44ad-a4b6-8dff96f1601b",
   "metadata": {},
   "source": [
    "# Linear Regression (GD) "
   ]
  },
  {
   "cell_type": "code",
   "execution_count": 15,
   "id": "35f1bcd8-fe21-400f-94c6-fb6d53e0454a",
   "metadata": {},
   "outputs": [],
   "source": [
    "class LR:\n",
    "    def __init__(self):\n",
    "        \n",
    "        self.m = None\n",
    "        self.y = None\n",
    "        self.X = None\n",
    "        self.z = None\n",
    "        self.w = None\n",
    "        self.b = None\n",
    "\n",
    "    def predict(self, test):\n",
    "        return test@self.w + self.b\n",
    "        \n",
    "    def fit(self, X, y, lr, epochs):\n",
    "        # update rule\n",
    "        # loss = -(y log(p) + (1-y) log(1-p)\n",
    "        # w = w + alpha (y - y_hat)X\n",
    "        # b = b + alpha (y - y_hat)\n",
    "        epsilon = 1e-8\n",
    "        self.X = X\n",
    "        self.y = y\n",
    "        self.m = len(self.X)\n",
    "        self.w = np.array(np.random.normal(0.0, 1.0, size=self.X.shape[1]).reshape(-1,1))\n",
    "        self.b = np.array(np.random.normal(0.0, 1.0))\n",
    "        loss = [] \n",
    "        \n",
    "        for i in range(epochs):\n",
    "\n",
    "            y_pred = np.array(self.X @ self.w + self.b)\n",
    "            #print(y_pred.shape, y.shape)\n",
    "            cost = np.mean((y_pred - y)**2)\n",
    "            loss.append(cost)\n",
    "            \n",
    "            dw = self.X.T @ (y_pred - self.y) / self.m\n",
    "            db = np.mean(y_pred - self.y)\n",
    "            \n",
    "            self.w -= lr * dw\n",
    "            self.b -= lr * db\n",
    "\n",
    "            if i%1000 == 0:\n",
    "                print(i,cost)\n",
    "            if cost <= epsilon:\n",
    "                print(f\"cost is low: {cost}\")\n",
    "                break\n",
    "                \n",
    "        return self.w, self.b, loss"
   ]
  },
  {
   "cell_type": "code",
   "execution_count": 16,
   "id": "c631b4be-4054-4aee-9a2a-245a96f3d216",
   "metadata": {},
   "outputs": [
    {
     "name": "stdout",
     "output_type": "stream",
     "text": [
      "0 29248.26322930435\n",
      "1000 3935.366772556958\n",
      "2000 3407.7686850507775\n",
      "3000 3194.4630781875744\n",
      "4000 3079.603259659721\n",
      "5000 3010.021752708692\n",
      "6000 2966.0603043080446\n",
      "7000 2937.7632858610004\n",
      "8000 2919.323861314037\n",
      "9000 2907.1776460162873\n"
     ]
    }
   ],
   "source": [
    "model = LR()\n",
    "w, b, loss = model.fit(X,y, lr = 0.1, epochs = 10000)"
   ]
  },
  {
   "cell_type": "code",
   "execution_count": 17,
   "id": "4ad3d079-62cd-400f-9071-c97a77544996",
   "metadata": {},
   "outputs": [
    {
     "data": {
      "image/png": "[encoded data removed]",
      "text/plain": [
       "<Figure size 640x480 with 1 Axes>"
      ]
     },
     "metadata": {},
     "output_type": "display_data"
    }
   ],
   "source": [
    "plt.xlabel(\"Iterations\")\n",
    "plt.ylabel(\"MSE\")\n",
    "plt.plot(loss);"
   ]
  },
  {
   "cell_type": "code",
   "execution_count": 18,
   "id": "21ae353c-2a82-4037-8a82-0f2f65ed2ed9",
   "metadata": {},
   "outputs": [
    {
     "name": "stdout",
     "output_type": "stream",
     "text": [
      "MSE 2899.090542657392\n",
      "MAE 43.783938430771634\n"
     ]
    }
   ],
   "source": [
    "y_pred = model.predict(X)\n",
    "print(\"MSE\",mse(y,y_pred))\n",
    "print(\"MAE\",mae(y,y_pred))"
   ]
  },
  {
   "cell_type": "markdown",
   "id": "a5096d50-500c-4f6d-99d0-ef799acbac5e",
   "metadata": {},
   "source": [
    "# Linear Regression Built-in "
   ]
  },
  {
   "cell_type": "code",
   "execution_count": 20,
   "id": "c61018a8-3aaa-4adc-ad8b-106d78097acc",
   "metadata": {},
   "outputs": [
    {
     "name": "stdout",
     "output_type": "stream",
     "text": [
      "MSE 2859.6963475867506\n",
      "MAE 43.27745202531506\n"
     ]
    }
   ],
   "source": [
    "lr = LinearRegression()\n",
    "lr.fit(X,y)\n",
    "y_pred = lr.predict(X)\n",
    "print(\"MSE\",mse(y,y_pred))\n",
    "print(\"MAE\",mae(y,y_pred))"
   ]
  },
  {
   "cell_type": "markdown",
   "id": "9f221e1b-ce71-4b45-9cfa-310b870063fa",
   "metadata": {},
   "source": [
    "# Conclusion\n",
    "<ol>\n",
    "    <b><li> Don't forget to add bias vector to closed form.</li>\n",
    "    <li>The built in Linear Regression got the same result as Closed form, and Linear Regression from scratch is very near to them.</li>\n",
    "</ol>"
   ]
  }
 ],
 "metadata": {
  "kernelspec": {
   "display_name": "Python 3 (ipykernel)",
   "language": "python",
   "name": "python3"
  },
  "language_info": {
   "codemirror_mode": {
    "name": "ipython",
    "version": 3
   },
   "file_extension": ".py",
   "mimetype": "text/x-python",
   "name": "python",
   "nbconvert_exporter": "python",
   "pygments_lexer": "ipython3",
   "version": "3.12.4"
  }
 },
 "nbformat": 4,
 "nbformat_minor": 5
}
