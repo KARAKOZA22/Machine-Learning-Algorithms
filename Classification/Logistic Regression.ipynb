{
 "cells": [
  {
   "cell_type": "markdown",
   "id": "393e0a0a-f2d9-4f09-b850-8c4e37d3778d",
   "metadata": {},
   "source": [
    "# Imports"
   ]
  },
  {
   "cell_type": "code",
   "execution_count": 1,
   "id": "7fc29968-3441-48d1-8084-836607a1e031",
   "metadata": {},
   "outputs": [],
   "source": [
    "import pandas as pd\n",
    "import numpy as np\n",
    "import seaborn as sns\n",
    "import matplotlib.pyplot as plt\n",
    "from sklearn.datasets import load_iris, load_breast_cancer\n",
    "from sklearn.linear_model import LogisticRegression\n",
    "from sklearn.metrics import accuracy_score\n",
    "from collections import Counter\n",
    "from sklearn.preprocessing import StandardScaler"
   ]
  },
  {
   "cell_type": "markdown",
   "id": "ce110f13-15ce-48e0-8949-e25e4ce88f1a",
   "metadata": {},
   "source": [
    "# Model"
   ]
  },
  {
   "cell_type": "code",
   "execution_count": 3,
   "id": "58cee0de-513a-4a21-90bb-f5b16684fdb2",
   "metadata": {},
   "outputs": [],
   "source": [
    "class LR:\n",
    "    def __init__(self):\n",
    "        self.m = None\n",
    "        self.y = None\n",
    "        self.X = None\n",
    "        self.z = None\n",
    "        self.w = None\n",
    "        self.b = None\n",
    "\n",
    "    def predict(self, test):\n",
    "        return np.round(self.sigmoid(test@self.w + self.b))\n",
    "\n",
    "    def sigmoid(self, z):\n",
    "        return 1/(1+np.exp(-z))\n",
    "        \n",
    "    def fit(self, X, y, lr, epochs):\n",
    "        # update rule\n",
    "        # loss = -(y log(p) + (1-y) log(1-p)\n",
    "        # w = w + alpha (y - y_hat)X\n",
    "        # b = b + alpha (y - y_hat)\n",
    "        epsilon = 1e-8\n",
    "        self.X = X\n",
    "        self.y = y\n",
    "        self.m = len(self.X)\n",
    "        self.w = np.array(np.random.normal(0.0, 1.0, size=self.X.shape[1]).reshape(-1,1))\n",
    "        self.b = np.array(np.random.normal(0.0, 1.0))\n",
    "        loss = [] \n",
    "        \n",
    "        for i in range(epochs):\n",
    "\n",
    "            y_pred = np.array(self.X @ self.w + self.b)\n",
    "            self.z = self.sigmoid(y_pred)\n",
    "            self.z = np.clip(self.z, epsilon, 1 - epsilon)\n",
    "\n",
    "            cost = -np.mean( (y*np.log(self.z)) + ((1-y)*np.log(1-self.z)) )\n",
    "            loss.append(cost)\n",
    "            \n",
    "            dw = self.X.T @ (self.z - self.y) / self.m\n",
    "            db = np.mean(self.z - self.y)\n",
    "            \n",
    "            self.w -= lr * dw\n",
    "            self.b -= lr * db\n",
    "\n",
    "            if i%100 == 0:\n",
    "                print(i,cost)\n",
    "            if cost <= epsilon:\n",
    "                print(f\"cost is low: {cost}\")\n",
    "                break\n",
    "                \n",
    "        return self.w, self.b, loss"
   ]
  },
  {
   "cell_type": "markdown",
   "id": "15168da5-be0b-4db1-b234-62a3de0f8b53",
   "metadata": {},
   "source": [
    "# Testing Model"
   ]
  },
  {
   "cell_type": "code",
   "execution_count": 5,
   "id": "3597a961-226d-4e32-817f-3245a6486780",
   "metadata": {},
   "outputs": [],
   "source": [
    "data = load_breast_cancer()\n",
    "X, y = data.data, data.target"
   ]
  },
  {
   "cell_type": "code",
   "execution_count": 9,
   "id": "e10a2405-bc76-4c87-ac49-9f24b9a1f2f8",
   "metadata": {},
   "outputs": [],
   "source": [
    "X = StandardScaler().fit_transform(X)\n",
    "X = np.hstack([np.ones((X.shape[0], 1)), X])"
   ]
  },
  {
   "cell_type": "code",
   "execution_count": 11,
   "id": "e000619f-1226-4bee-b550-a48f4f83c782",
   "metadata": {},
   "outputs": [],
   "source": [
    "model = LR()"
   ]
  },
  {
   "cell_type": "code",
   "execution_count": 13,
   "id": "fc9dbfc6-7c69-4ac7-be46-facacda6e825",
   "metadata": {},
   "outputs": [],
   "source": [
    "y = y.reshape(-1,1)"
   ]
  },
  {
   "cell_type": "code",
   "execution_count": 15,
   "id": "384c2829-95d0-4fbf-b0b2-85420e4cd749",
   "metadata": {},
   "outputs": [
    {
     "name": "stdout",
     "output_type": "stream",
     "text": [
      "0 1.3736663878713729\n",
      "100 0.15843850310453272\n",
      "200 0.09573557320881078\n",
      "300 0.07807821732653426\n",
      "400 0.07076767559981592\n",
      "500 0.06671390733028922\n",
      "600 0.06405836686439682\n",
      "700 0.06214449601159496\n",
      "800 0.06067242735320099\n",
      "900 0.0594859379156904\n"
     ]
    }
   ],
   "source": [
    "w,b,loss = model.fit(X,y, lr = 0.1, epochs = 1000)"
   ]
  },
  {
   "cell_type": "code",
   "execution_count": 17,
   "id": "499ad4c1-3836-4a82-883d-f31d45b10146",
   "metadata": {},
   "outputs": [
    {
     "data": {
      "text/plain": [
       "0.984182776801406"
      ]
     },
     "execution_count": 17,
     "metadata": {},
     "output_type": "execute_result"
    }
   ],
   "source": [
    "y_pred = model.predict(X)\n",
    "me = accuracy_score(y,y_pred)\n",
    "me"
   ]
  },
  {
   "cell_type": "code",
   "execution_count": 19,
   "id": "bad54298-d855-4098-ad36-a9e7fac152e8",
   "metadata": {},
   "outputs": [
    {
     "data": {
      "image/png": "[encoded data removed]",
      "text/plain": [
       "<Figure size 640x480 with 1 Axes>"
      ]
     },
     "metadata": {},
     "output_type": "display_data"
    }
   ],
   "source": [
    "plt.xlabel(\"Iterations\")\n",
    "plt.ylabel(\"Loss\")\n",
    "plt.plot(loss);"
   ]
  },
  {
   "cell_type": "markdown",
   "id": "6fa600fa-45c0-4bad-b1eb-0a1f77ed6658",
   "metadata": {},
   "source": [
    "# Logistic Regression Built-in "
   ]
  },
  {
   "cell_type": "code",
   "execution_count": 22,
   "id": "38e5f625-82be-4c31-ae0f-3b7781a55e0b",
   "metadata": {},
   "outputs": [
    {
     "data": {
      "text/plain": [
       "0.9876977152899824"
      ]
     },
     "execution_count": 22,
     "metadata": {},
     "output_type": "execute_result"
    }
   ],
   "source": [
    "model = LogisticRegression(max_iter = 1000)\n",
    "model.fit(X,y.ravel())\n",
    "y_pred = model.predict(X)\n",
    "u = accuracy_score(y,y_pred)\n",
    "u"
   ]
  },
  {
   "cell_type": "code",
   "execution_count": 24,
   "id": "8d1ef191-b786-4f8f-b83b-8d2482274fd1",
   "metadata": {},
   "outputs": [
    {
     "name": "stdout",
     "output_type": "stream",
     "text": [
      "diff between my model and built in 0.0035149384885764245\n"
     ]
    }
   ],
   "source": [
    "print(f\"diff between my model and built in {abs(me-u)}\")"
   ]
  },
  {
   "cell_type": "markdown",
   "id": "9f7b5335-b3af-481a-8424-1f268314cc40",
   "metadata": {},
   "source": [
    "# Without Sigmoid"
   ]
  },
  {
   "cell_type": "code",
   "execution_count": 53,
   "id": "00071069-f5f6-4051-b625-9816e0bb556c",
   "metadata": {},
   "outputs": [],
   "source": [
    "W = np.array(np.linalg.inv(X.T @ X) @ X.T @ y).reshape(-1,1)"
   ]
  },
  {
   "cell_type": "code",
   "execution_count": 55,
   "id": "db97ce9c-8746-44a8-9e71-a3077f77c355",
   "metadata": {},
   "outputs": [
    {
     "data": {
      "text/plain": [
       "(31, 1)"
      ]
     },
     "execution_count": 55,
     "metadata": {},
     "output_type": "execute_result"
    }
   ],
   "source": [
    "W.shape"
   ]
  },
  {
   "cell_type": "code",
   "execution_count": 57,
   "id": "1fdf0094-c3ee-43c0-97e2-df29730058d6",
   "metadata": {},
   "outputs": [],
   "source": [
    "y_pred = X@W"
   ]
  },
  {
   "cell_type": "code",
   "execution_count": 59,
   "id": "c1938a0a-8e14-41ed-ae83-46b217c3a137",
   "metadata": {},
   "outputs": [
    {
     "data": {
      "text/plain": [
       "array([[-0.04557482],\n",
       "       [ 0.15786964],\n",
       "       [-0.13131986],\n",
       "       [-0.19228819],\n",
       "       [ 0.1655534 ]])"
      ]
     },
     "execution_count": 59,
     "metadata": {},
     "output_type": "execute_result"
    }
   ],
   "source": [
    "y_pred[:5]"
   ]
  }
 ],
 "metadata": {
  "kernelspec": {
   "display_name": "Python 3 (ipykernel)",
   "language": "python",
   "name": "python3"
  },
  "language_info": {
   "codemirror_mode": {
    "name": "ipython",
    "version": 3
   },
   "file_extension": ".py",
   "mimetype": "text/x-python",
   "name": "python",
   "nbconvert_exporter": "python",
   "pygments_lexer": "ipython3",
   "version": "3.12.4"
  }
 },
 "nbformat": 4,
 "nbformat_minor": 5
}
